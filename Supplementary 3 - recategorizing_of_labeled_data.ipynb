{
 "cells": [
  {
   "cell_type": "code",
   "execution_count": null,
   "id": "c3046e2a-0472-4c8c-b74e-5a50b21e8da5",
   "metadata": {},
   "outputs": [],
   "source": [
    "def contract_categories(df):\n",
    "    data = [\n",
    "        'Hospitality, Tourism', \n",
    "        'Education, Training', \n",
    "        'Legal, Security, Law Enforcement', \n",
    "        'Construction, Artisans, SkilledTrade', \n",
    "        'Transport, Logistics', \n",
    "        'Healthcare, Medical', \n",
    "        'Entertainment, Arts, Sports', \n",
    "        'Social Services', \n",
    "        'Science, Research', \n",
    "        'Unknown'\n",
    "    ]\n",
    "\n",
    "    return df['CATEGORY'].apply(lambda x: 'Other' if x in data else x)\n",
    "    \n",
    "cleaned_labeled_df['CATEGORY'] = contract_categories(cleaned_labeled_df)"
   ]
  }
 ],
 "metadata": {
  "kernelspec": {
   "display_name": "Python 3 (ipykernel)",
   "language": "python",
   "name": "python3"
  },
  "language_info": {
   "codemirror_mode": {
    "name": "ipython",
    "version": 3
   },
   "file_extension": ".py",
   "mimetype": "text/x-python",
   "name": "python",
   "nbconvert_exporter": "python",
   "pygments_lexer": "ipython3",
   "version": "3.12.4"
  }
 },
 "nbformat": 4,
 "nbformat_minor": 5
}
