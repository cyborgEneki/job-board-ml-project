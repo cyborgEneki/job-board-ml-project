{
 "cells": [
  {
   "cell_type": "code",
   "execution_count": null,
   "id": "c3046e2a-0472-4c8c-b74e-5a50b21e8da5",
   "metadata": {},
   "outputs": [],
   "source": [
    "def contract_categories(df):\n",
    "    data = [\n",
    "        'Hospitality, Tourism', \n",
    "        'Education, Training', \n",
    "        'Legal, Security, Law Enforcement', \n",
    "        'Construction, Artisans, SkilledTrade', \n",
    "        'Transport, Logistics', \n",
    "        'Healthcare, Medical', \n",
    "        'Entertainment, Arts, Sports', \n",
    "        'Social Services', \n",
    "        'Science, Research', \n",
    "        'Media & Communication',\n",
    "        'Unknown'\n",
    "    ]\n",
    "\n",
    "    return df['CATEGORY'].apply(lambda x: 'Other' if x in data else x)"
   ]
  },
  {
   "cell_type": "code",
   "execution_count": null,
   "id": "c77af9bb",
   "metadata": {},
   "outputs": [],
   "source": [
    "copy_cleaned_labeled_df = cleaned_original_labeled_df.copy()\n",
    "\n",
    "copy_cleaned_labeled_df['CATEGORY'] = contract_categories(copy_cleaned_labeled_df)\n",
    "copy_cleaned_labeled_df['CATEGORY'].value_counts()"
   ]
  },
  {
   "cell_type": "code",
   "execution_count": null,
   "id": "920d64cf",
   "metadata": {},
   "outputs": [],
   "source": [
    "copy_cleaned_labeled_df.shape"
   ]
  },
  {
   "cell_type": "code",
   "execution_count": null,
   "id": "a022bc60",
   "metadata": {},
   "outputs": [],
   "source": [
    "def create_final_labeled_data_file(df):\n",
    "    data_folder = Path('data')\n",
    "    data_folder.mkdir(parents=True, exist_ok=True)\n",
    "    \n",
    "    file_name = 'final_labeled_data.csv'\n",
    "    file_path = data_folder / file_name\n",
    "    \n",
    "    df.to_csv(file_path, index=False)\n",
    "    print('A new file has been created at /data/final_labeled_data.csv')\n",
    "\n",
    "create_final_labeled_data_file(copy_cleaned_labeled_df)"
   ]
  }
 ],
 "metadata": {
  "kernelspec": {
   "display_name": "Python 3 (ipykernel)",
   "language": "python",
   "name": "python3"
  },
  "language_info": {
   "codemirror_mode": {
    "name": "ipython",
    "version": 3
   },
   "file_extension": ".py",
   "mimetype": "text/x-python",
   "name": "python",
   "nbconvert_exporter": "python",
   "pygments_lexer": "ipython3",
   "version": "3.12.4"
  }
 },
 "nbformat": 4,
 "nbformat_minor": 5
}
