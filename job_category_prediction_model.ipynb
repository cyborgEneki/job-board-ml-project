{
 "cells": [
  {
   "cell_type": "markdown",
   "id": "7f505be4-38ca-46f7-9519-53e683e38e89",
   "metadata": {},
   "source": [
    "# Introduction"
   ]
  },
  {
   "cell_type": "markdown",
   "id": "42c056c6-3a3a-4b1b-bd51-fc6d16eb0e9b",
   "metadata": {},
   "source": [
    "## Background\n",
    "Text classification is a pivotal tool in natural language processing. Its applications include sentiment analysis, topic classification, and spam filtering. In the field of human resources and talent acquisition, accurately classifying job ads is crucial for efficient recruitment, talent matching, improved job search experiences for applicants, and labor market analysis. By automating the categorization of postings on job boards, organizations can streamline their hiring processes, enhance candidate experience, and gain valuable insights into workforce trends. The increase in popularity and presence of online job boards has lead to an overwhelming volume of job posts. Manually categorizing these postings into relevant job categories can be time-consuming and error prone. Sometimes the classifications are unintuitive leading applicants to miss out on great opportunities. This has created demand for accurate, automated solutions. This project aims to create a robust text classification model to categorize job descriptions into predetermined job categories."
   ]
  },
  {
   "cell_type": "markdown",
   "id": "0368480c-278a-41ff-8e80-d125c4ac0694",
   "metadata": {},
   "source": [
    "## Research Problem\n",
    "This research aims to develop a robust text classification model capable of automatically assigning accurate job categories from a predefined list to a large dataset of job descriptions. The model will leverage machine learning techniques to extract meaningful features from job descriptions and classify them into predefined categories. The challenges include handling a large unlabeled dataset, determining meaningful job categories, and ensuring high classification accuracy. Additionally, the research will focus on optimizing the model to manage diverse job descriptions and improving its performance through iterative self-training and domain expert consultation. The goal is to create a highly efficient and accurate job classification model that can significantly aid in organizing and retrieving job-related information."
   ]
  },
  {
   "cell_type": "markdown",
   "id": "b36fb375-9cd4-4124-9677-bfc2f62d7e59",
   "metadata": {},
   "source": [
    "## Objectives\n",
    "1. Develop a text classification model based on the support vector machine (SVM) algorithm that assigns predefined job category labels to the corresponding job descriptions.\n",
    "2. Use the same SVM model in a semi-supervised process known as self-training  to transform a subset the original unlabeled dataset into a labeled dataset that includes at least 5000 rows. \n",
    "3. Iteratively train the model on new chunks of data to accurately categorize job descriptions into the top 6 of the initial 16 predefined categories (targets) based on their text content.\n",
    "4. Achieve a classification accuracy of at least 80% ensuring that the model reliably differentiates the job categories."
   ]
  },
  {
   "cell_type": "markdown",
   "id": "1d929d42-8bbe-4f49-aab2-8e07663c49c9",
   "metadata": {},
   "source": [
    "## Hypothesis\n",
    "Null hypothesis: HR, IT, and Marketing are not the categories that are highest in demand. \n",
    "\n",
    "Alternative hypothesis: HR, IT, and Marketing are the categories that are highest in demand."
   ]
  },
  {
   "cell_type": "markdown",
   "id": "0708de31-5894-4c44-8938-2f46315e6fd8",
   "metadata": {},
   "source": [
    "# Methodology, Results, and Discussion"
   ]
  },
  {
   "cell_type": "code",
   "execution_count": 1,
   "id": "db5cb7d5-05fd-4704-9bc3-130722f49368",
   "metadata": {},
   "outputs": [],
   "source": [
    "# Uncomment to install the following required packages\n",
    "# pip pandas numpy scikit-learn nltk matplotlib seaborn"
   ]
  },
  {
   "cell_type": "code",
   "execution_count": 2,
   "id": "1e743b6c-7d92-4d53-ace7-d1073450a2d9",
   "metadata": {},
   "outputs": [
    {
     "name": "stderr",
     "output_type": "stream",
     "text": [
      "[nltk_data] Downloading package stopwords to\n",
      "[nltk_data]     C:\\Users\\Karma\\AppData\\Roaming\\nltk_data...\n",
      "[nltk_data]   Package stopwords is already up-to-date!\n",
      "[nltk_data] Downloading package punkt to\n",
      "[nltk_data]     C:\\Users\\Karma\\AppData\\Roaming\\nltk_data...\n",
      "[nltk_data]   Package punkt is already up-to-date!\n",
      "[nltk_data] Downloading package wordnet to\n",
      "[nltk_data]     C:\\Users\\Karma\\AppData\\Roaming\\nltk_data...\n",
      "[nltk_data]   Package wordnet is already up-to-date!\n"
     ]
    },
    {
     "data": {
      "text/plain": [
       "True"
      ]
     },
     "execution_count": 2,
     "metadata": {},
     "output_type": "execute_result"
    }
   ],
   "source": [
    "import pandas as pd\n",
    "import numpy as np\n",
    "import re as regex\n",
    "import nltk\n",
    "import scipy.sparse as sp\n",
    "import matplotlib.pyplot as plt\n",
    "import seaborn as sns\n",
    "import os\n",
    "\n",
    "from nltk.corpus import stopwords\n",
    "from nltk.stem import WordNetLemmatizer\n",
    "from nltk.tokenize import word_tokenize\n",
    "\n",
    "from sklearn.feature_extraction.text import TfidfVectorizer\n",
    "from sklearn.model_selection import train_test_split, GridSearchCV\n",
    "from sklearn.feature_extraction.text import CountVectorizer\n",
    "from sklearn.svm import SVC\n",
    "from sklearn.metrics import accuracy_score, classification_report\n",
    "from sklearn.semi_supervised import LabelPropagation\n",
    "from sklearn.pipeline import Pipeline\n",
    "from sklearn.metrics import classification_report\n",
    "\n",
    "from pathlib import Path\n",
    "\n",
    "nltk.download('stopwords')\n",
    "nltk.download('punkt')\n",
    "nltk.download('wordnet')"
   ]
  },
  {
   "cell_type": "markdown",
   "id": "25ec588b-97eb-449e-80a3-9953f030f61c",
   "metadata": {},
   "source": [
    "## Load data\n",
    "There are 2 sets of labeled data (more details in the *Data Description* section below):\n",
    "1. Sample dataset - the first 1000 job descriptions classified into the original 16 job categories\n",
    "2. Final dataset - n job descriptions classified into the final 5 job descriptions"
   ]
  },
  {
   "cell_type": "code",
   "execution_count": 3,
   "id": "4628b7b8-11ab-4793-818d-fa41429e6b0e",
   "metadata": {},
   "outputs": [
    {
     "data": {
      "text/plain": [
       "(1521, 5)"
      ]
     },
     "execution_count": 3,
     "metadata": {},
     "output_type": "execute_result"
    }
   ],
   "source": [
    "def load_sample_labeled_data():\n",
    "    data_folder_name = 'data'\n",
    "    sample_labeled_data_file_name = 'sample_labeled_data.csv'\n",
    "    \n",
    "    sample_labeled_data_file_path = os.path.join(os.getcwd(), data_folder_name, sample_labeled_data_file_name)\n",
    "    \n",
    "    return pd.read_csv(sample_labeled_data_file_path)\n",
    "\n",
    "original_sample_labeled_data = load_sample_labeled_data()\n",
    "original_sample_labeled_data.shape"
   ]
  },
  {
   "cell_type": "code",
   "execution_count": 4,
   "id": "8e847450-c9b9-4852-8578-5181f1154bb3",
   "metadata": {},
   "outputs": [
    {
     "data": {
      "text/plain": [
       "(5329, 5)"
      ]
     },
     "execution_count": 4,
     "metadata": {},
     "output_type": "execute_result"
    }
   ],
   "source": [
    "def load_final_labeled_data():\n",
    "    data_folder_name = 'data'\n",
    "    final_labeled_data_file_name = 'final_labeled_data.csv'\n",
    "    \n",
    "    final_labeled_data_file_path = os.path.join(os.getcwd(), data_folder_name, final_labeled_data_file_name)\n",
    "    \n",
    "    return pd.read_csv(final_labeled_data_file_path)\n",
    "\n",
    "original_final_labeled_data = load_final_labeled_data()\n",
    "original_final_labeled_data.shape"
   ]
  },
  {
   "cell_type": "markdown",
   "id": "51b30fe1-f8ab-4b4d-88bf-9586d057613a",
   "metadata": {},
   "source": [
    "**Toggle to choose whether to load the sample or final labeled data**"
   ]
  },
  {
   "cell_type": "code",
   "execution_count": 5,
   "id": "1e2d2f9e-9a3c-4615-9b99-82937e5f427d",
   "metadata": {},
   "outputs": [],
   "source": [
    "is_final_data = True"
   ]
  },
  {
   "cell_type": "code",
   "execution_count": 6,
   "id": "674b101a-c80c-4442-a7e4-a265277a5139",
   "metadata": {},
   "outputs": [],
   "source": [
    "def load_labeled_data(should_load_final_data):\n",
    "    if should_load_final_data:\n",
    "        return original_final_labeled_data\n",
    "    else:\n",
    "        return original_sample_labeled_data\n",
    "\n",
    "original_labeled_df = load_labeled_data(is_final_data)"
   ]
  },
  {
   "cell_type": "markdown",
   "id": "d8877f3b-178e-4dd5-9c8f-a04ee0d8c967",
   "metadata": {},
   "source": [
    "## Data description \n",
    "The dataset used was sourced from a public job ads website. The exercise was done between 1st and 14th July 2024. The website provides a vast repository of job descriptions across diverse industries and roles. As of the time of this writing, the ads span a comprehensive period from January 2018 to July 2024. This ensures a rich representation of the job market over time. A custom Python web scraping script was developed to extract relevant job post information from the site. This script (present after the *Conclusion* section on this notebook and labeled as **Supplementary Work A**) iterated through multiple pages extracting key fields including job title, job description, page url, and date of posting. The raw dataset consisted of 59,986 unlabeled records. The data was collected under conditions that adhered to general web scraping ethics, ensuring ethical and legal compliance. Aside from not recording job descriptions comprising more than 10000 characters, no other constraints or limitations were imposed on the scraping process, allowing for a broad and unbiased dataset. *It's important to note that the website's structure and content may have undergone changes during the data collection period, which could potentially impact the dataset's consistency.* 3 HR professionals were consulted to create meaningful buckets which formed the initial 16 categories which were later reduced to 6."
   ]
  },
  {
   "cell_type": "code",
   "execution_count": 7,
   "id": "cd686f36-9fbf-4687-9171-f3df14944801",
   "metadata": {},
   "outputs": [
    {
     "data": {
      "text/html": [
       "<div>\n",
       "<style scoped>\n",
       "    .dataframe tbody tr th:only-of-type {\n",
       "        vertical-align: middle;\n",
       "    }\n",
       "\n",
       "    .dataframe tbody tr th {\n",
       "        vertical-align: top;\n",
       "    }\n",
       "\n",
       "    .dataframe thead th {\n",
       "        text-align: right;\n",
       "    }\n",
       "</style>\n",
       "<table border=\"1\" class=\"dataframe\">\n",
       "  <thead>\n",
       "    <tr style=\"text-align: right;\">\n",
       "      <th></th>\n",
       "      <th>TITLE</th>\n",
       "      <th>LINK</th>\n",
       "      <th>JOB DESCRIPTION</th>\n",
       "      <th>DATE</th>\n",
       "      <th>CATEGORY</th>\n",
       "    </tr>\n",
       "  </thead>\n",
       "  <tbody>\n",
       "    <tr>\n",
       "      <th>0</th>\n",
       "      <td>Tuskys Supermarket Are Hiring</td>\n",
       "      <td>https://opportunitiesforyoungkenyans.co.ke/201...</td>\n",
       "      <td>This last week of January, Tuskys supermarket ...</td>\n",
       "      <td>1/26/2018</td>\n",
       "      <td>Other</td>\n",
       "    </tr>\n",
       "    <tr>\n",
       "      <th>1</th>\n",
       "      <td>Admin Assistant Job Opportune</td>\n",
       "      <td>https://opportunitiesforyoungkenyans.co.ke/201...</td>\n",
       "      <td>We are looking to hire an administrative assis...</td>\n",
       "      <td>1/25/2018</td>\n",
       "      <td>Admin, HR, CS, Office Support</td>\n",
       "    </tr>\n",
       "    <tr>\n",
       "      <th>2</th>\n",
       "      <td>KPC Hiring Graduate Trainees</td>\n",
       "      <td>https://opportunitiesforyoungkenyans.co.ke/201...</td>\n",
       "      <td>MANAGEMENT TRAINEE Vacancy Reference: MANAGEME...</td>\n",
       "      <td>1/24/2018</td>\n",
       "      <td>Internships, Fellowships, Scholarships</td>\n",
       "    </tr>\n",
       "  </tbody>\n",
       "</table>\n",
       "</div>"
      ],
      "text/plain": [
       "                           TITLE  \\\n",
       "0  Tuskys Supermarket Are Hiring   \n",
       "1  Admin Assistant Job Opportune   \n",
       "2   KPC Hiring Graduate Trainees   \n",
       "\n",
       "                                                LINK  \\\n",
       "0  https://opportunitiesforyoungkenyans.co.ke/201...   \n",
       "1  https://opportunitiesforyoungkenyans.co.ke/201...   \n",
       "2  https://opportunitiesforyoungkenyans.co.ke/201...   \n",
       "\n",
       "                                     JOB DESCRIPTION       DATE  \\\n",
       "0  This last week of January, Tuskys supermarket ...  1/26/2018   \n",
       "1  We are looking to hire an administrative assis...  1/25/2018   \n",
       "2  MANAGEMENT TRAINEE Vacancy Reference: MANAGEME...  1/24/2018   \n",
       "\n",
       "                                 CATEGORY  \n",
       "0                                   Other  \n",
       "1           Admin, HR, CS, Office Support  \n",
       "2  Internships, Fellowships, Scholarships  "
      ]
     },
     "execution_count": 7,
     "metadata": {},
     "output_type": "execute_result"
    }
   ],
   "source": [
    "original_labeled_df.head(3)"
   ]
  },
  {
   "cell_type": "code",
   "execution_count": 8,
   "id": "e3f09b82-daff-41cb-a27a-4425fb7fbe42",
   "metadata": {},
   "outputs": [
    {
     "data": {
      "text/plain": [
       "CATEGORY\n",
       "Unknown                                   631\n",
       "Internships, Fellowships, Scholarships    173\n",
       "Admin, HR, CS, Office Support             115\n",
       "Marketing, Sales                           94\n",
       "Media & Communication                      92\n",
       "Finance, Accounting                        73\n",
       "Information Technology                     71\n",
       "Social Services                            34\n",
       "Transport, Logistics                       32\n",
       "Hospitality, Tourism                       32\n",
       "Construction, Artisans, SkilledTrade       31\n",
       "Legal, Security, Law Enforcement           31\n",
       "Healthcare, Medical                        29\n",
       "Education, Training                        29\n",
       "Entertainment, Arts, Sports                25\n",
       "Science, Research                          24\n",
       "Media & Communication                       4\n",
       "Name: count, dtype: int64"
      ]
     },
     "execution_count": 8,
     "metadata": {},
     "output_type": "execute_result"
    }
   ],
   "source": [
    "# Initial 16 categories from the sample labeled data\n",
    "original_sample_labeled_data['CATEGORY'].value_counts()"
   ]
  },
  {
   "cell_type": "code",
   "execution_count": 9,
   "id": "3f3c436d-5e42-451b-af1f-9c46962411b3",
   "metadata": {},
   "outputs": [
    {
     "data": {
      "text/plain": [
       "CATEGORY\n",
       "Other                                     3171\n",
       "Internships, Fellowships, Scholarships     798\n",
       "Admin, HR, CS, Office Support              536\n",
       "Finance, Accounting                        322\n",
       "Marketing, Sales                           261\n",
       "Information Technology                     241\n",
       "Name: count, dtype: int64"
      ]
     },
     "execution_count": 9,
     "metadata": {},
     "output_type": "execute_result"
    }
   ],
   "source": [
    "# Final 6 categories from the final labeled data\n",
    "original_final_labeled_data['CATEGORY'].value_counts()"
   ]
  },
  {
   "cell_type": "markdown",
   "id": "917459c5-0459-4a4d-84bc-a17426cbc387",
   "metadata": {},
   "source": [
    "## Exploratory data analytics "
   ]
  },
  {
   "cell_type": "code",
   "execution_count": 10,
   "id": "b49fb5fd-d970-4ba4-989b-d750829da6a8",
   "metadata": {},
   "outputs": [
    {
     "data": {
      "text/plain": [
       "(5329, 5)"
      ]
     },
     "execution_count": 10,
     "metadata": {},
     "output_type": "execute_result"
    }
   ],
   "source": [
    "original_labeled_df.shape"
   ]
  },
  {
   "cell_type": "code",
   "execution_count": 11,
   "id": "45d902a1-5e59-4646-8c5c-dad2ee6d6e2c",
   "metadata": {},
   "outputs": [
    {
     "name": "stdout",
     "output_type": "stream",
     "text": [
      "<class 'pandas.core.frame.DataFrame'>\n",
      "RangeIndex: 5329 entries, 0 to 5328\n",
      "Data columns (total 5 columns):\n",
      " #   Column           Non-Null Count  Dtype \n",
      "---  ------           --------------  ----- \n",
      " 0   TITLE            5329 non-null   object\n",
      " 1   LINK             5329 non-null   object\n",
      " 2   JOB DESCRIPTION  5329 non-null   object\n",
      " 3   DATE             5329 non-null   object\n",
      " 4   CATEGORY         5329 non-null   object\n",
      "dtypes: object(5)\n",
      "memory usage: 208.3+ KB\n"
     ]
    }
   ],
   "source": [
    "original_labeled_df.info()"
   ]
  },
  {
   "cell_type": "markdown",
   "id": "d55e662a-2634-4109-bac0-14ee568bd830",
   "metadata": {},
   "source": [
    "## Data cleaning / pre-treatment for ML\n",
    "Data cleaning involved handling missing values and removing duplicates. \n",
    "\n",
    "Missing values were caused by deliberately omitting descriptions which only included images and those whose content exceeded a character count of 10,000. Text preprocessing included lemmatization to normalize the text and the use of Term Frequency-Inverse Document Frequency (TF-IDF) for feature engineering."
   ]
  },
  {
   "cell_type": "markdown",
   "id": "b840f355-bdfb-43b1-b254-f1c6f1a31ec1",
   "metadata": {},
   "source": [
    "### Check for missing values"
   ]
  },
  {
   "cell_type": "code",
   "execution_count": 12,
   "id": "ce465466-43cd-4ea3-a73e-dc2af4d86519",
   "metadata": {},
   "outputs": [],
   "source": [
    "def remove_missing_values(df):\n",
    "    missing_values = df.isnull().sum()\n",
    "    print(f'Total missing values before cleaning: \\n{missing_values}\\n')\n",
    "    \n",
    "    clean_df = df.dropna()\n",
    "    print(f'Total missing values after cleaning: \\n{clean_df.isnull().sum()}\\n')\n",
    "    \n",
    "    return clean_df"
   ]
  },
  {
   "cell_type": "markdown",
   "id": "c529c0b1-5e12-469c-bf84-3600057c8fe3",
   "metadata": {},
   "source": [
    "### Removing Duplicates"
   ]
  },
  {
   "cell_type": "code",
   "execution_count": 13,
   "id": "d58f5f30-31ca-4e02-882e-2b7c5d60c499",
   "metadata": {},
   "outputs": [],
   "source": [
    "def remove_duplicates(df):\n",
    "    duplicates = df[df['JOB DESCRIPTION'].duplicated(keep='first')]['JOB DESCRIPTION']\n",
    "    print(f'Total duplicated records: \\n{duplicates.count()}\\n')\n",
    "\n",
    "    clean_df = df.drop_duplicates(subset='JOB DESCRIPTION', keep='first')\n",
    "    print(f'Total unique records: \\n{clean_df.count()}\\n')\n",
    "    \n",
    "    return clean_df"
   ]
  },
  {
   "cell_type": "markdown",
   "id": "4c4c0451-d81c-4eee-9e5f-4c0ed3db47de",
   "metadata": {},
   "source": [
    "### Cleaning data"
   ]
  },
  {
   "cell_type": "code",
   "execution_count": 14,
   "id": "c2582da8-e4bd-4a73-bb4d-cfbd675259c0",
   "metadata": {},
   "outputs": [
    {
     "name": "stdout",
     "output_type": "stream",
     "text": [
      "Total missing values before cleaning: \n",
      "TITLE              0\n",
      "LINK               0\n",
      "JOB DESCRIPTION    0\n",
      "DATE               0\n",
      "CATEGORY           0\n",
      "dtype: int64\n",
      "\n",
      "Total missing values after cleaning: \n",
      "TITLE              0\n",
      "LINK               0\n",
      "JOB DESCRIPTION    0\n",
      "DATE               0\n",
      "CATEGORY           0\n",
      "dtype: int64\n",
      "\n",
      "Total duplicated records: \n",
      "801\n",
      "\n",
      "Total unique records: \n",
      "TITLE              4528\n",
      "LINK               4528\n",
      "JOB DESCRIPTION    4528\n",
      "DATE               4528\n",
      "CATEGORY           4528\n",
      "dtype: int64\n",
      "\n"
     ]
    }
   ],
   "source": [
    "def clean_data(df):\n",
    "    labeled_df_without_missing_values = remove_missing_values(df)\n",
    "    return remove_duplicates(labeled_df_without_missing_values)\n",
    "\n",
    "labeled_df = clean_data(original_labeled_df)"
   ]
  },
  {
   "cell_type": "code",
   "execution_count": 15,
   "id": "98225dc9-cd92-4244-a2c2-85e2680f4470",
   "metadata": {},
   "outputs": [],
   "source": [
    "def clean_category_data(text):\n",
    "  text = text.lstrip().rstrip()\n",
    "  return text\n",
    "\n",
    "cleaned_original_labeled_df = labeled_df.copy()\n",
    "clean_category_data = cleaned_original_labeled_df['CATEGORY'].apply(clean_category_data)\n",
    "cleaned_original_labeled_df['CATEGORY'] = clean_category_data"
   ]
  },
  {
   "cell_type": "code",
   "execution_count": 16,
   "id": "df58c7a7-1b85-4329-ae0a-684079292880",
   "metadata": {},
   "outputs": [
    {
     "data": {
      "text/plain": [
       "CATEGORY\n",
       "Other                                     2684\n",
       "Internships, Fellowships, Scholarships     613\n",
       "Admin, HR, CS, Office Support              463\n",
       "Finance, Accounting                        299\n",
       "Marketing, Sales                           248\n",
       "Information Technology                     221\n",
       "Name: count, dtype: int64"
      ]
     },
     "execution_count": 16,
     "metadata": {},
     "output_type": "execute_result"
    }
   ],
   "source": [
    "cleaned_original_labeled_df['CATEGORY'].value_counts()"
   ]
  },
  {
   "cell_type": "code",
   "execution_count": 17,
   "id": "557c68b5-3681-4cde-a511-06e38c9c50b6",
   "metadata": {},
   "outputs": [
    {
     "data": {
      "text/html": [
       "<div>\n",
       "<style scoped>\n",
       "    .dataframe tbody tr th:only-of-type {\n",
       "        vertical-align: middle;\n",
       "    }\n",
       "\n",
       "    .dataframe tbody tr th {\n",
       "        vertical-align: top;\n",
       "    }\n",
       "\n",
       "    .dataframe thead th {\n",
       "        text-align: right;\n",
       "    }\n",
       "</style>\n",
       "<table border=\"1\" class=\"dataframe\">\n",
       "  <thead>\n",
       "    <tr style=\"text-align: right;\">\n",
       "      <th></th>\n",
       "      <th>JOB DESCRIPTION</th>\n",
       "      <th>CATEGORY</th>\n",
       "    </tr>\n",
       "  </thead>\n",
       "  <tbody>\n",
       "    <tr>\n",
       "      <th>0</th>\n",
       "      <td>This last week of January, Tuskys supermarket ...</td>\n",
       "      <td>Other</td>\n",
       "    </tr>\n",
       "    <tr>\n",
       "      <th>1</th>\n",
       "      <td>We are looking to hire an administrative assis...</td>\n",
       "      <td>Admin, HR, CS, Office Support</td>\n",
       "    </tr>\n",
       "    <tr>\n",
       "      <th>2</th>\n",
       "      <td>MANAGEMENT TRAINEE Vacancy Reference: MANAGEME...</td>\n",
       "      <td>Internships, Fellowships, Scholarships</td>\n",
       "    </tr>\n",
       "  </tbody>\n",
       "</table>\n",
       "</div>"
      ],
      "text/plain": [
       "                                     JOB DESCRIPTION  \\\n",
       "0  This last week of January, Tuskys supermarket ...   \n",
       "1  We are looking to hire an administrative assis...   \n",
       "2  MANAGEMENT TRAINEE Vacancy Reference: MANAGEME...   \n",
       "\n",
       "                                 CATEGORY  \n",
       "0                                   Other  \n",
       "1           Admin, HR, CS, Office Support  \n",
       "2  Internships, Fellowships, Scholarships  "
      ]
     },
     "execution_count": 17,
     "metadata": {},
     "output_type": "execute_result"
    }
   ],
   "source": [
    "cleaned_labeled_df = cleaned_original_labeled_df.iloc[:, [2, 4]]\n",
    "cleaned_labeled_df.head(3)"
   ]
  },
  {
   "cell_type": "code",
   "execution_count": 18,
   "id": "6140ea34-a6a0-4bd6-9feb-012fdb657510",
   "metadata": {},
   "outputs": [
    {
     "data": {
      "image/png": "[encoded data removed]",
      "text/plain": [
       "<Figure size 640x480 with 1 Axes>"
      ]
     },
     "metadata": {},
     "output_type": "display_data"
    }
   ],
   "source": [
    "defined_categories = cleaned_labeled_df['CATEGORY'][cleaned_labeled_df['CATEGORY'] != 'Unknown']\n",
    "\n",
    "ax = sns.countplot(x = defined_categories, palette = 'rocket', hue = defined_categories, legend = False)\n",
    "\n",
    "for p in ax.patches:\n",
    "    count = int(p.get_height())\n",
    "    ax.annotate(f'{count}', (p.get_x() + p.get_width() / 2., p.get_height()),\n",
    "                ha='center', va='center', xytext=(0, 5), textcoords='offset points')\n",
    "\n",
    "plt.xticks(rotation=90)\n",
    "plt.title(\"Post Count by Classification Type\")\n",
    "plt.show()"
   ]
  },
  {
   "cell_type": "code",
   "execution_count": 19,
   "id": "8ec47963-f341-400a-97f2-06dcc31072bd",
   "metadata": {},
   "outputs": [],
   "source": [
    "def preprocess_text(text, custom_stopwords):\n",
    "  text = regex.sub('[^a-zA-Z]', ' ', text).lower()\n",
    " \n",
    "  words = word_tokenize(text)\n",
    "  stop_words = set(stopwords.words('english'))\n",
    "  stop_words.update(custom_stopwords)\n",
    "\n",
    "  words = [word for word in words if word not in stop_words]\n",
    "\n",
    "  lemmatizer = WordNetLemmatizer()\n",
    "  words = [lemmatizer.lemmatize(word) for word in words]\n",
    "\n",
    "  text = ' '.join(words)\n",
    "  return text"
   ]
  },
  {
   "cell_type": "code",
   "execution_count": 20,
   "id": "c000c3c9-9309-413e-a071-c6df65e194f4",
   "metadata": {},
   "outputs": [],
   "source": [
    "custom_stopwords = ['kenya', 'job', 'application', 'apply', 'email', 'year', 'work', 'skill', 'position', 'ensure', 'kenya', 'http', 'candidate', 'program', 'staff', 'www', 'cv', 'experience']\n",
    "df = cleaned_labeled_df.copy()\n",
    "df['Cleaned Job Description'] = df['JOB DESCRIPTION'].apply(preprocess_text, custom_stopwords=custom_stopwords)"
   ]
  },
  {
   "cell_type": "markdown",
   "id": "933f884e-9666-479d-960d-16b54ef3b513",
   "metadata": {},
   "source": [
    "### Word Frequency Analysis"
   ]
  },
  {
   "cell_type": "code",
   "execution_count": 21,
   "id": "251bbc7e-385a-4715-abb5-7527a3d5ca75",
   "metadata": {},
   "outputs": [
    {
     "data": {
      "image/png": "[encoded data removed]",
      "text/plain": [
       "<Figure size 1000x600 with 1 Axes>"
      ]
     },
     "metadata": {},
     "output_type": "display_data"
    },
    {
     "data": {
      "image/png": "[encoded data removed]",
      "text/plain": [
       "<Figure size 1000x600 with 1 Axes>"
      ]
     },
     "metadata": {},
     "output_type": "display_data"
    },
    {
     "data": {
      "image/png": "[encoded data removed]",
      "text/plain": [
       "<Figure size 1000x600 with 1 Axes>"
      ]
     },
     "metadata": {},
     "output_type": "display_data"
    },
    {
     "data": {
      "image/png": "[encoded data removed]",
      "text/plain": [
       "<Figure size 1000x600 with 1 Axes>"
      ]
     },
     "metadata": {},
     "output_type": "display_data"
    },
    {
     "data": {
      "image/png": "[encoded data removed]",
      "text/plain": [
       "<Figure size 1000x600 with 1 Axes>"
      ]
     },
     "metadata": {},
     "output_type": "display_data"
    },
    {
     "data": {
      "image/png": "[encoded data removed]",
      "text/plain": [
       "<Figure size 1000x600 with 1 Axes>"
      ]
     },
     "metadata": {},
     "output_type": "display_data"
    }
   ],
   "source": [
    "vectorizer = CountVectorizer()\n",
    "X = vectorizer.fit_transform(df['Cleaned Job Description'])\n",
    "\n",
    "# Convert the sparse matrix to a DataFrame\n",
    "X_df = pd.DataFrame(X.toarray(), columns=vectorizer.get_feature_names_out())\n",
    "\n",
    "# Calculate word frequencies per category\n",
    "word_counts = pd.concat([df['CATEGORY'], X_df], axis=1).groupby('CATEGORY').sum()\n",
    "\n",
    "# Visualize top words for each category\n",
    "for category in df['CATEGORY'].unique():\n",
    "    top_words = word_counts.loc[category].sort_values(ascending=False).head()\n",
    "\n",
    "    plt.figure(figsize=(10, 6))\n",
    "    sns.barplot(x=top_words.values, y=top_words.index)\n",
    "    plt.title(f'Top Words for Category: {category}')\n",
    "    plt.show()"
   ]
  },
  {
   "cell_type": "markdown",
   "id": "3a59663b-8660-41ce-87a7-43f73974539f",
   "metadata": {},
   "source": [
    "Split the data using the 80/20 split into training and testing sets."
   ]
  },
  {
   "cell_type": "code",
   "execution_count": 22,
   "id": "dc3834a7-3608-471b-b79c-e897e9ab738c",
   "metadata": {},
   "outputs": [],
   "source": [
    "X_train, X_test, y_train, y_test = train_test_split(df['Cleaned Job Description'], df['CATEGORY'], test_size=0.2, random_state=41, stratify=df['CATEGORY'])"
   ]
  },
  {
   "cell_type": "markdown",
   "id": "653d7f7d-c079-4e12-886f-acb4141560ba",
   "metadata": {},
   "source": [
    "### Feature Engineering"
   ]
  },
  {
   "cell_type": "code",
   "execution_count": 23,
   "id": "55e6b378-6708-432e-b367-ffcea90be021",
   "metadata": {},
   "outputs": [],
   "source": [
    "vectorizer = TfidfVectorizer()\n",
    "X_train_tfidf = vectorizer.fit_transform(X_train)\n",
    "X_test_tfidf = vectorizer.transform(X_test)"
   ]
  },
  {
   "cell_type": "markdown",
   "id": "0e976b43-65e9-48e2-90ba-adebfd65e337",
   "metadata": {},
   "source": [
    "## Model Development\n",
    "A *Support Vector Machine (SVM)* algorithm was chosen for the text classification model due to its effectiveness in high-dimensional text data. To address the lack of labeled data, a semi-supervised learning approach known as self-training was employed. The script used is present after the *Conclusion* section on this notebook and labeled as ***Supplementary Work B***.\n",
    "\n",
    "**Labeling Process**\n",
    "1. Manual Labeling: Initially, 1000 job descriptions were manually labeled using the 16 initial job categories.\n",
    "2. Filtering Categories: After training the initial model, the top 5 categories were filtered based on frequency.\n",
    "3. These categories were used in the iterative self-training process.\n",
    "\n",
    "**Self-Training**\n",
    "- The manually labeled subset was used to train the SVM model.\n",
    "- The model was then used to label additional job descriptions.\n",
    "- The labeled data was reviewed, corrected, and incorporated into the final training/testing set.\n",
    "- This process was repeated until at least 5,000 records were labeled.\n",
    "\n",
    "**Hyperparameter Optimization**\n",
    "\n",
    "*Grid search* was used for hyperparameter optimization to fine-tune the model parameters, ensuring optimal performance. The SVM model was evaluated using standard metrics, including accuracy, precision, recall, and F1-score."
   ]
  },
  {
   "cell_type": "markdown",
   "id": "4b1ec837-58fe-4f60-b504-b1a00469f26d",
   "metadata": {},
   "source": [
    "### Hyperparameter tuning"
   ]
  },
  {
   "cell_type": "code",
   "execution_count": 24,
   "id": "d4a859b3-f079-4805-8d77-3652c01e7ce8",
   "metadata": {},
   "outputs": [],
   "source": [
    "param_grid = {'C': [0.1, 1, 10], 'kernel': ['linear', 'rbf', 'poly'], 'gamma': [0.1, 1, 10]}\n",
    "\n",
    "svm_model = SVC()\n",
    "\n",
    "grid_search = GridSearchCV(estimator=svm_model, param_grid=param_grid, cv=5, n_jobs=-1)\n",
    "\n",
    "grid_search.fit(X_train_tfidf, y_train)\n",
    "\n",
    "best_params = grid_search.best_params_\n",
    "best_model = grid_search.best_estimator_"
   ]
  },
  {
   "cell_type": "markdown",
   "id": "6430de92-0acf-4b69-94a4-c8ce928c8208",
   "metadata": {},
   "source": [
    "### Evaluate model"
   ]
  },
  {
   "cell_type": "code",
   "execution_count": 25,
   "id": "df19c1d6-fd1d-4f71-880f-3982f796ca86",
   "metadata": {},
   "outputs": [
    {
     "name": "stdout",
     "output_type": "stream",
     "text": [
      "Accuracy: 0.8333333333333334\n",
      "                                        precision    recall  f1-score   support\n",
      "\n",
      "         Admin, HR, CS, Office Support       0.75      0.53      0.62        93\n",
      "                   Finance, Accounting       0.87      0.75      0.80        60\n",
      "                Information Technology       0.83      0.45      0.59        44\n",
      "Internships, Fellowships, Scholarships       0.94      0.75      0.83       123\n",
      "                      Marketing, Sales       0.78      0.73      0.76        49\n",
      "                                 Other       0.83      0.96      0.89       537\n",
      "\n",
      "                              accuracy                           0.83       906\n",
      "                             macro avg       0.83      0.69      0.75       906\n",
      "                          weighted avg       0.83      0.83      0.82       906\n",
      "\n"
     ]
    }
   ],
   "source": [
    "y_pred = best_model.predict(X_test_tfidf)\n",
    "\n",
    "accuracy = accuracy_score(y_test, y_pred)\n",
    "print(\"Accuracy:\", accuracy)\n",
    "\n",
    "print(classification_report(y_test, y_pred)) "
   ]
  },
  {
   "cell_type": "markdown",
   "id": "bf85b020-530f-4d2b-88e2-d98a0c69b672",
   "metadata": {},
   "source": [
    "## Conclusion\n",
    "The iterative self-training approach which gradually improved the model's performance proved effective in leveraging the large unlabeled dataset. Consultation with HR professionals ensured that the categories were meaningful and relevant, enhancing the practical applicability of the model.\n",
    "\n",
    "The accuracy of text classification algorithms can vary widely depending on the specific application, dataset, and complexity of the task. However, certain benchmarks and expectations exist based on historical performance and research. Industry standards are between *70% and 90%*. Everything above 70% is acceptable as a realistic and valuable model data output.<sup>**1**</sup> With an **accuracy of 83.33%**, the final model demonstrated high accuracy in classifying job descriptions into the predefined categories. \n",
    "\n",
    "The weighted average **F1-score is 0.82**, indicating a good balance between precision and recall across all classes.\n",
    "\n",
    "In summary, the project successfully developed a text classification model for job descriptions, addressing the challenges of data labeling and classification accuracy. The use of SVM and self-training techniques, coupled with expert consultation and thorough preprocessing, resulted in a robust solution that can significantly aid in job classification tasks.\n",
    "\n",
    "**References**\n",
    "\n",
    "*1. [Deep Checks](https://deepchecks.com/question/what-is-a-good-accuracy-score-in-machine-learning/#:~:text=Industry%20standards%20are%20between%2070,various%20businesses%20and%20sectors'%20needs.)*"
   ]
  },
  {
   "cell_type": "markdown",
   "id": "66212d0f-7a0c-4bdb-89f0-56cd8c56620d",
   "metadata": {},
   "source": [
    "# Supplementary work\n",
    "The secondary work related to the project included:\n",
    "1. Web scraping to retrieve the unlabeled data\n",
    "2. Semi-supervised labelling of the primary data\n",
    "3. Recategorization of the least populated job categories\n",
    "\n",
    "The code for each is available below for quick reference. "
   ]
  },
  {
   "cell_type": "markdown",
   "id": "0b892191-c700-47c6-b586-722c6f77548d",
   "metadata": {
    "jp-MarkdownHeadingCollapsed": true
   },
   "source": [
    "## A. Scraping the unlabeled data"
   ]
  },
  {
   "cell_type": "code",
   "execution_count": null,
   "id": "fe1d0266-f858-4e14-874e-7757585cb663",
   "metadata": {},
   "outputs": [],
   "source": [
    "import requests\n",
    "import unicodedata\n",
    "import os\n",
    "import pandas as pd\n",
    "\n",
    "from bs4 import BeautifulSoup\n",
    "from urllib.parse import urlparse\n",
    "from datetime import date\n",
    "from pathlib import Path"
   ]
  },
  {
   "cell_type": "markdown",
   "id": "0583ea35-4fa7-432d-ac0c-1092541f308a",
   "metadata": {},
   "source": [
    "**Normalize Unicode characters**"
   ]
  },
  {
   "cell_type": "code",
   "execution_count": null,
   "id": "5e5078f8-1fdc-4d7a-80e0-920e1680a32b",
   "metadata": {},
   "outputs": [],
   "source": [
    "def clean_text(text):\n",
    "    cleaned_text = unicodedata.normalize('NFKD', text).encode('ascii', 'ignore').decode('utf-8', 'ignore')\n",
    "    return cleaned_text"
   ]
  },
  {
   "cell_type": "markdown",
   "id": "218e2af7-9096-4056-b46d-b8bfd5f39dcf",
   "metadata": {},
   "source": [
    "**Isolate job description**"
   ]
  },
  {
   "cell_type": "code",
   "execution_count": null,
   "id": "9d9bda3d-04be-44de-8741-773851b6cd8f",
   "metadata": {},
   "outputs": [],
   "source": [
    "def get_post_body(url, headers):\n",
    "  response = requests.get(url, headers=headers)\n",
    "\n",
    "  if response.status_code == 200:\n",
    "    soup = BeautifulSoup(response.content, 'html.parser')\n",
    "    section = soup.find('section', class_='main-content')\n",
    "\n",
    "    if section:\n",
    "      post_article = section.find('article', class_='post-content')\n",
    "      if post_article:\n",
    "        # post_container = post_article.find('div', class_='clearfix').text\n",
    "        post_container = post_article.find('div', class_='clearfix')\n",
    "        \n",
    "        if post_container:\n",
    "          post_container_text =  clean_text(post_container.get_text(separator=\" \", strip=True))\n",
    "\n",
    "          if len(post_container_text) > 10000:\n",
    "            post_container_text = len(post_container_text)\n",
    "            \n",
    "          return post_container_text"
   ]
  },
  {
   "cell_type": "markdown",
   "id": "38b21fb3-675b-4f6a-9121-5bcea01732f4",
   "metadata": {},
   "source": [
    "**Isolate date**"
   ]
  },
  {
   "cell_type": "code",
   "execution_count": null,
   "id": "ae99e9c5-5ad9-433d-bfbc-bf053d0c7eef",
   "metadata": {},
   "outputs": [],
   "source": [
    "def extract_date_from_url(url):\n",
    "  parsed_url =  urlparse(url)\n",
    "  \n",
    "  path_parts = parsed_url.path.split('/')\n",
    "  \n",
    "  year = path_parts[1]\n",
    "  month = path_parts[2]\n",
    "  day = path_parts[3]\n",
    "  \n",
    "  date = f'{year}-{month}-{day}'\n",
    "  return date"
   ]
  },
  {
   "cell_type": "markdown",
   "id": "9216e9f0-bfd8-4c6e-b822-13274d24811a",
   "metadata": {},
   "source": [
    "**Retrieve job post records**"
   ]
  },
  {
   "cell_type": "code",
   "execution_count": null,
   "id": "8fd6b284-af90-429d-8914-9cae6afc478a",
   "metadata": {},
   "outputs": [],
   "source": [
    "def get_job_postings(url, headers):\n",
    "  response = requests.get(url, headers=headers)\n",
    "\n",
    "  if response.status_code == 200:\n",
    "    response.encoding = 'utf-8'\n",
    "    soup = BeautifulSoup(response.content, 'html.parser')\n",
    "    section = soup.find('section', class_='main-content')\n",
    "\n",
    "    if section:\n",
    "      post_container = section.find('div', class_='col-lg-8')\n",
    "\n",
    "      job_posts = []\n",
    "      \n",
    "      for post in post_container.find_all('div', class_='post-classic'):\n",
    "        title_heading_element = post.find('h5')\n",
    "\n",
    "        title = clean_text(title_heading_element.find('a').text.strip())\n",
    "        link = title_heading_element.find('a').get(\"href\")\n",
    "\n",
    "        content = get_post_body(link, headers)\n",
    "        date = extract_date_from_url(link)\n",
    "\n",
    "        job_posts.append({\n",
    "          'title': title,\n",
    "          'link': link,\n",
    "          'content': content,\n",
    "          'date': date\n",
    "        })\n",
    "      return job_posts\n",
    "  else:\n",
    "    return []"
   ]
  },
  {
   "cell_type": "markdown",
   "id": "8cdf2e6a-b424-40b9-b92e-3129965681d1",
   "metadata": {},
   "source": [
    "**Save job post data by month**"
   ]
  },
  {
   "cell_type": "code",
   "execution_count": null,
   "id": "afa13c4c-afa2-42f0-8ef9-783b76b4756c",
   "metadata": {},
   "outputs": [],
   "source": [
    "def aggregate_job_postings():\n",
    "  headers = {\n",
    "  'User-Agent': 'Mozilla/5.0 (Windows NT 10.0; Win64; x64) AppleWebKit/537.36 (KHTML, like Gecko) Chrome/91.0.4472.124 Safari/537.36'\n",
    "  }\n",
    "\n",
    "  data_folder = Path('data')\n",
    "  data_folder.mkdir(parents=True, exist_ok=True)\n",
    "\n",
    "  first_year = 2018\n",
    "  first_month = 1\n",
    "\n",
    "  date_today = date.today()\n",
    "  year_today = date_today.year\n",
    "  month_today = date_today.month\n",
    "\n",
    "  base_url = 'https://opportunitiesforyoungkenyans.co.ke'\n",
    "\n",
    "  jobs_from_all_dates = []\n",
    "  merged_jobs = []\n",
    "\n",
    "  for year in range(first_year, year_today + 1):\n",
    "    if year == year_today:\n",
    "      last_month = month_today\n",
    "    else:\n",
    "      last_month = 12\n",
    "    \n",
    "    for month in range(first_month, last_month + 1):\n",
    "      current_month_url = f'{base_url}/{year}/{month}'\n",
    "      current_month_url_response = requests.get(current_month_url, headers=headers)\n",
    "      print(current_month_url)\n",
    "      if current_month_url_response.status_code == 200:\n",
    "        for page_count in range(1, 1000):\n",
    "          page_url = f'{current_month_url}/page/{page_count}'\n",
    "          page_url_response = requests.get(page_url, headers=headers)\n",
    "          \n",
    "          if page_url_response.status_code == 200:\n",
    "            page_url_soup = BeautifulSoup(page_url_response.content, 'html.parser')\n",
    "            page_url_body_tag = page_url_soup.body\n",
    "            \n",
    "            if page_url_body_tag and 'error404' in page_url_body_tag.get('class', []):\n",
    "              print(f'Error 404 found on {page_url}. Stopping search.')\n",
    "              break # Stop searching further pages because if current page is not found then there are no more pages for this date.\n",
    "            else:\n",
    "              jobs_per_date = get_job_postings(page_url, headers)\n",
    "              jobs_from_all_dates.append(jobs_per_date)\n",
    "              print(f'Found {page_url}')\n",
    "          else:\n",
    "            print(f'Failed to retrieve {page_url}. Status code: {page_url_response.status_code}')\n",
    "            break  # Stop searching further pages on HTTP error\n",
    "      else:\n",
    "        print(f'Failed to retrieve {current_month_url}. Status code: {current_month_url_response.status_code}')\n",
    "        continue  # Stop searching further pages on HTTP error\n",
    "\n",
    "      print(f'Month {month} over.')\n",
    "\n",
    "      for jobs in jobs_from_all_dates:\n",
    "        merged_jobs.extend(jobs)\n",
    "\n",
    "      file_name = f'job_postings_{month}-{year}.csv'\n",
    "      file_path = data_folder / file_name \n",
    "        \n",
    "      df = pd.DataFrame(merged_jobs)\n",
    "      df.to_csv(file_path, index=False)\n",
    "        \n",
    "      print(f'{month}-{year} spreadsheet exported')\n",
    "\n",
    "      merged_jobs = []\n",
    "      jobs_from_all_dates = []\n",
    "        \n",
    "    print(f'Year {year} over.')     \n",
    "\n",
    "  print(f'Scraping finished.')  \n",
    "\n",
    "aggregate_job_postings()"
   ]
  },
  {
   "cell_type": "markdown",
   "id": "a5494f91-d5e1-41e8-baa0-1dedfb553a42",
   "metadata": {},
   "source": [
    "**Combine month files into a common CSV file**"
   ]
  },
  {
   "cell_type": "code",
   "execution_count": null,
   "id": "ab16b79d-ade2-4f81-b24b-d45042227ad9",
   "metadata": {},
   "outputs": [],
   "source": [
    "def combine_files():\n",
    "    data_folder = Path('data')\n",
    "    data_folder.mkdir(parents=True, exist_ok=True)\n",
    "\n",
    "    first_year = 2018\n",
    "    first_month = 1\n",
    "    \n",
    "    date_today = date.today()\n",
    "    year_today = date_today.year\n",
    "    month_today = date_today.month\n",
    "\n",
    "    all_dataframes = []\n",
    "    \n",
    "    for year in range(first_year, year_today + 1):\n",
    "        if year == year_today:\n",
    "            last_month = month_today\n",
    "        else:\n",
    "            last_month = 12\n",
    "        \n",
    "        for month in range(first_month, last_month + 1):\n",
    "            file_name = f'job_postings_{month}-{year}.csv'\n",
    "            file_path = data_folder / file_name\n",
    "            \n",
    "            print(f'Reading file: {file_path}')\n",
    "            \n",
    "            try:\n",
    "                df = pd.read_csv(file_path)\n",
    "                all_dataframes.append(df)\n",
    "            except FileNotFoundError:\n",
    "                print(f'File not found: {file_path}')\n",
    "                continue\n",
    "\n",
    "    if all_dataframes:\n",
    "        file_name = 'complete_unlabeled_data.csv'\n",
    "        file_path = data_folder / file_name\n",
    "\n",
    "        combined_df = pd.concat(all_dataframes, ignore_index=True)\n",
    "        combined_df.to_csv(file_path, index=False)\n",
    "        print('All files have been combined and saved to /data/complete_unlabeled_data.csv')\n",
    "    else:\n",
    "        print('No files were found to combine.')\n",
    "\n",
    "combine_files()"
   ]
  },
  {
   "cell_type": "markdown",
   "id": "502c4fad-9eae-464c-b609-c78dee9060c4",
   "metadata": {
    "jp-MarkdownHeadingCollapsed": true
   },
   "source": [
    "## B. Self-training"
   ]
  },
  {
   "cell_type": "code",
   "execution_count": 31,
   "id": "7d07f23a-7a30-4d4e-80dc-a8e82f8c6260",
   "metadata": {},
   "outputs": [],
   "source": [
    "def load_training_data():\n",
    "    data_folder_name = 'data'\n",
    "    sample_labeled_data_file_name = 'working-unlabeled-data.csv'\n",
    "    \n",
    "    sample_labeled_data_file_path = os.path.join(os.getcwd(), data_folder_name, sample_labeled_data_file_name)\n",
    "    return pd.read_csv(sample_labeled_data_file_path)\n",
    "\n",
    "original_unlabeled_df = load_training_data()"
   ]
  },
  {
   "cell_type": "code",
   "execution_count": 32,
   "id": "79a7d9a7-61d2-4f53-b7a2-ecf009036027",
   "metadata": {},
   "outputs": [
    {
     "data": {
      "text/plain": [
       "(1000, 4)"
      ]
     },
     "execution_count": 32,
     "metadata": {},
     "output_type": "execute_result"
    }
   ],
   "source": [
    "original_unlabeled_df.shape"
   ]
  },
  {
   "cell_type": "code",
   "execution_count": 33,
   "id": "e431a093-b24d-47d6-b070-542033f42b30",
   "metadata": {},
   "outputs": [
    {
     "name": "stdout",
     "output_type": "stream",
     "text": [
      "Total missing values: 85\n"
     ]
    }
   ],
   "source": [
    "print(f'Total missing values: {original_unlabeled_df['JOB DESCRIPTION'].isnull().sum()}')"
   ]
  },
  {
   "cell_type": "code",
   "execution_count": 34,
   "id": "0a3e7eed-6bc7-48cc-b802-06a5ae64b65c",
   "metadata": {},
   "outputs": [
    {
     "data": {
      "text/plain": [
       "TITLE              915\n",
       "LINK               915\n",
       "JOB DESCRIPTION    915\n",
       "DATE               915\n",
       "dtype: int64"
      ]
     },
     "execution_count": 34,
     "metadata": {},
     "output_type": "execute_result"
    }
   ],
   "source": [
    "cleaned_unlabeled_df = original_unlabeled_df.dropna(subset=[\"JOB DESCRIPTION\"])\n",
    "cleaned_unlabeled_df.count()"
   ]
  },
  {
   "cell_type": "code",
   "execution_count": 35,
   "id": "1461e599-92e8-465f-8662-fd68fd0ce34d",
   "metadata": {},
   "outputs": [
    {
     "data": {
      "text/html": [
       "<div>\n",
       "<style scoped>\n",
       "    .dataframe tbody tr th:only-of-type {\n",
       "        vertical-align: middle;\n",
       "    }\n",
       "\n",
       "    .dataframe tbody tr th {\n",
       "        vertical-align: top;\n",
       "    }\n",
       "\n",
       "    .dataframe thead th {\n",
       "        text-align: right;\n",
       "    }\n",
       "</style>\n",
       "<table border=\"1\" class=\"dataframe\">\n",
       "  <thead>\n",
       "    <tr style=\"text-align: right;\">\n",
       "      <th></th>\n",
       "      <th>TITLE</th>\n",
       "      <th>LINK</th>\n",
       "      <th>JOB DESCRIPTION</th>\n",
       "      <th>DATE</th>\n",
       "      <th>Cleaned Job Description</th>\n",
       "    </tr>\n",
       "  </thead>\n",
       "  <tbody>\n",
       "    <tr>\n",
       "      <th>0</th>\n",
       "      <td>CIC Group Hiring Procurement Assistant</td>\n",
       "      <td>https://opportunitiesforyoungkenyans.co.ke/202...</td>\n",
       "      <td>Full Time Nairobi Posted on September 21, 2023...</td>\n",
       "      <td>9/22/2023</td>\n",
       "      <td>full time nairobi posted september close septe...</td>\n",
       "    </tr>\n",
       "    <tr>\n",
       "      <th>1</th>\n",
       "      <td>World Bank Group Hiring : Investment Officer, ...</td>\n",
       "      <td>https://opportunitiesforyoungkenyans.co.ke/202...</td>\n",
       "      <td>Welcome to the combined listing of current job...</td>\n",
       "      <td>9/22/2023</td>\n",
       "      <td>welcome combined listing current opening world...</td>\n",
       "    </tr>\n",
       "    <tr>\n",
       "      <th>2</th>\n",
       "      <td>KEMRI Hiring In 10 Sections</td>\n",
       "      <td>https://opportunitiesforyoungkenyans.co.ke/202...</td>\n",
       "      <td>KEMRI has built a strong professional team of ...</td>\n",
       "      <td>9/22/2023</td>\n",
       "      <td>kemri built strong professional team employee ...</td>\n",
       "    </tr>\n",
       "    <tr>\n",
       "      <th>3</th>\n",
       "      <td>Relationship Manager Wanted</td>\n",
       "      <td>https://opportunitiesforyoungkenyans.co.ke/202...</td>\n",
       "      <td>JOB PURPOSE: RELATIONSHIP MANAGER  KIAMBU ROAD...</td>\n",
       "      <td>9/22/2023</td>\n",
       "      <td>purpose relationship manager kiambu road branc...</td>\n",
       "    </tr>\n",
       "    <tr>\n",
       "      <th>4</th>\n",
       "      <td>Action Aid Kenya Hiring Local Rights Programme...</td>\n",
       "      <td>https://opportunitiesforyoungkenyans.co.ke/202...</td>\n",
       "      <td>Grade: E Salary: Kshs. 189,484 per month Contr...</td>\n",
       "      <td>9/22/2023</td>\n",
       "      <td>grade e salary kshs per month contract duratio...</td>\n",
       "    </tr>\n",
       "  </tbody>\n",
       "</table>\n",
       "</div>"
      ],
      "text/plain": [
       "                                               TITLE  \\\n",
       "0             CIC Group Hiring Procurement Assistant   \n",
       "1  World Bank Group Hiring : Investment Officer, ...   \n",
       "2                        KEMRI Hiring In 10 Sections   \n",
       "3                        Relationship Manager Wanted   \n",
       "4  Action Aid Kenya Hiring Local Rights Programme...   \n",
       "\n",
       "                                                LINK  \\\n",
       "0  https://opportunitiesforyoungkenyans.co.ke/202...   \n",
       "1  https://opportunitiesforyoungkenyans.co.ke/202...   \n",
       "2  https://opportunitiesforyoungkenyans.co.ke/202...   \n",
       "3  https://opportunitiesforyoungkenyans.co.ke/202...   \n",
       "4  https://opportunitiesforyoungkenyans.co.ke/202...   \n",
       "\n",
       "                                     JOB DESCRIPTION       DATE  \\\n",
       "0  Full Time Nairobi Posted on September 21, 2023...  9/22/2023   \n",
       "1  Welcome to the combined listing of current job...  9/22/2023   \n",
       "2  KEMRI has built a strong professional team of ...  9/22/2023   \n",
       "3  JOB PURPOSE: RELATIONSHIP MANAGER  KIAMBU ROAD...  9/22/2023   \n",
       "4  Grade: E Salary: Kshs. 189,484 per month Contr...  9/22/2023   \n",
       "\n",
       "                             Cleaned Job Description  \n",
       "0  full time nairobi posted september close septe...  \n",
       "1  welcome combined listing current opening world...  \n",
       "2  kemri built strong professional team employee ...  \n",
       "3  purpose relationship manager kiambu road branc...  \n",
       "4  grade e salary kshs per month contract duratio...  "
      ]
     },
     "execution_count": 35,
     "metadata": {},
     "output_type": "execute_result"
    }
   ],
   "source": [
    "unlabeled_df_copy = cleaned_unlabeled_df.copy()\n",
    "unlabeled_df_copy['Cleaned Job Description'] = unlabeled_df_copy['JOB DESCRIPTION'].apply(preprocess_text, custom_stopwords=custom_stopwords)\n",
    "unlabeled_df_copy.head()"
   ]
  },
  {
   "cell_type": "code",
   "execution_count": 36,
   "id": "572b32e6-7447-478f-8c93-900a85890765",
   "metadata": {},
   "outputs": [],
   "source": [
    "data_folder = Path('data', 'work_in_progress')\n",
    "data_folder.mkdir(parents=True, exist_ok=True)"
   ]
  },
  {
   "cell_type": "code",
   "execution_count": 37,
   "id": "512105cf-f910-470e-a262-d6979e2dc5fa",
   "metadata": {},
   "outputs": [
    {
     "name": "stdout",
     "output_type": "stream",
     "text": [
      "A new file has been created at /data/predicted_categories.csv\n"
     ]
    }
   ],
   "source": [
    "unlabeled_features = vectorizer.transform(unlabeled_df_copy['Cleaned Job Description'])\n",
    "\n",
    "predicted_categories = best_model.predict(unlabeled_features)\n",
    "\n",
    "unlabeled_df_copy['CATEGORY'] = predicted_categories\n",
    "unlabeled_df_copy = unlabeled_df_copy.drop(columns=['Cleaned Job Description'])\n",
    "\n",
    "file_name = 'predicted_categories.csv'\n",
    "file_path = data_folder / file_name\n",
    "\n",
    "unlabeled_df_copy.to_csv(file_path, index=False)\n",
    "print('A new file has been created at /data/predicted_categories.csv')"
   ]
  },
  {
   "cell_type": "markdown",
   "id": "9d767259-f96e-4808-825b-4a5b479e8de8",
   "metadata": {},
   "source": [
    "At this point I manually look through each record, correct the wrong ones, feed the corrected data to the primary labeled data, train the model, and repeat with the fresh batch of data."
   ]
  },
  {
   "cell_type": "markdown",
   "id": "4af763b8-a79b-40fc-b50b-ddb9b618d515",
   "metadata": {
    "jp-MarkdownHeadingCollapsed": true
   },
   "source": [
    "## C. Recategorizing of labelled data\n",
    "This code below is to be run once after the top 5 job categories have been identified from the sample labeled data."
   ]
  },
  {
   "cell_type": "code",
   "execution_count": 79,
   "id": "e4702148-c167-4eb9-95f7-0fa3589cb5cc",
   "metadata": {},
   "outputs": [],
   "source": [
    "def contract_categories(df):\n",
    "    data = [\n",
    "        'Hospitality, Tourism', \n",
    "        'Education, Training', \n",
    "        'Legal, Security, Law Enforcement', \n",
    "        'Construction, Artisans, SkilledTrade', \n",
    "        'Transport, Logistics', \n",
    "        'Healthcare, Medical', \n",
    "        'Entertainment, Arts, Sports', \n",
    "        'Social Services', \n",
    "        'Science, Research', \n",
    "        'Media & Communication',\n",
    "        'Unknown'\n",
    "    ]\n",
    "\n",
    "    return df['CATEGORY'].apply(lambda x: 'Other' if x in data else x)"
   ]
  },
  {
   "cell_type": "code",
   "execution_count": 80,
   "id": "fbf01077-5785-4e58-9efe-73da8bf6f543",
   "metadata": {},
   "outputs": [
    {
     "data": {
      "text/plain": [
       "CATEGORY\n",
       "Other                                     496\n",
       "Internships, Fellowships, Scholarships    163\n",
       "Admin, HR, CS, Office Support             111\n",
       "Marketing, Sales                           92\n",
       "Finance, Accounting                        71\n",
       "Information Technology                     67\n",
       "Name: count, dtype: int64"
      ]
     },
     "execution_count": 80,
     "metadata": {},
     "output_type": "execute_result"
    }
   ],
   "source": [
    "copy_cleaned_labeled_df = cleaned_original_labeled_df.copy()\n",
    "\n",
    "copy_cleaned_labeled_df['CATEGORY'] = contract_categories(copy_cleaned_labeled_df)\n",
    "copy_cleaned_labeled_df['CATEGORY'].value_counts()"
   ]
  },
  {
   "cell_type": "code",
   "execution_count": 81,
   "id": "44cc34e8-9f17-44c7-a753-2e1157186318",
   "metadata": {},
   "outputs": [
    {
     "data": {
      "text/plain": [
       "(1000, 5)"
      ]
     },
     "execution_count": 81,
     "metadata": {},
     "output_type": "execute_result"
    }
   ],
   "source": [
    "copy_cleaned_labeled_df.shape"
   ]
  },
  {
   "cell_type": "code",
   "execution_count": 82,
   "id": "b0737be5-2c7e-417d-8c99-0481975bf4d4",
   "metadata": {},
   "outputs": [
    {
     "name": "stdout",
     "output_type": "stream",
     "text": [
      "A new file has been created at /data/final_labeled_data.csv\n"
     ]
    }
   ],
   "source": [
    "def create_final_labeled_data_file(df):\n",
    "    data_folder = Path('data')\n",
    "    data_folder.mkdir(parents=True, exist_ok=True)\n",
    "    \n",
    "    file_name = 'final_labeled_data.csv'\n",
    "    file_path = data_folder / file_name\n",
    "    \n",
    "    df.to_csv(file_path, index=False)\n",
    "    print('A new file has been created at /data/final_labeled_data.csv')\n",
    "\n",
    "create_final_labeled_data_file(copy_cleaned_labeled_df)"
   ]
  },
  {
   "cell_type": "code",
   "execution_count": null,
   "id": "1db8bb69-e01d-4a96-a04d-29320712ffbd",
   "metadata": {},
   "outputs": [],
   "source": []
  }
 ],
 "metadata": {
  "kernelspec": {
   "display_name": "Python 3 (ipykernel)",
   "language": "python",
   "name": "python3"
  },
  "language_info": {
   "codemirror_mode": {
    "name": "ipython",
    "version": 3
   },
   "file_extension": ".py",
   "mimetype": "text/x-python",
   "name": "python",
   "nbconvert_exporter": "python",
   "pygments_lexer": "ipython3",
   "version": "3.12.4"
  }
 },
 "nbformat": 4,
 "nbformat_minor": 5
}
