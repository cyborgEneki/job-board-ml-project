{
 "cells": [
  {
   "cell_type": "code",
   "execution_count": null,
   "id": "125f26be-4128-42dc-9c75-5b5d9b0f67b2",
   "metadata": {},
   "outputs": [],
   "source": [
    "import pandas as pd\n",
    "import os\n",
    "from pathlib import Path"
   ]
  },
  {
   "cell_type": "code",
   "execution_count": 1,
   "id": "052daaf8-0984-4940-bc34-afd1fed2c1a0",
   "metadata": {},
   "outputs": [
    {
     "ename": "NameError",
     "evalue": "name 'pd' is not defined",
     "output_type": "error",
     "traceback": [
      "\u001b[1;31m---------------------------------------------------------------------------\u001b[0m",
      "\u001b[1;31mNameError\u001b[0m                                 Traceback (most recent call last)",
      "Cell \u001b[1;32mIn[1], line 1\u001b[0m\n\u001b[1;32m----> 1\u001b[0m original_unlabeled_df \u001b[38;5;241m=\u001b[39m pd\u001b[38;5;241m.\u001b[39mread_csv(\u001b[38;5;124m'\u001b[39m\u001b[38;5;124mcurrent_unlabeled_data.csv\u001b[39m\u001b[38;5;124m'\u001b[39m)\n",
      "\u001b[1;31mNameError\u001b[0m: name 'pd' is not defined"
     ]
    }
   ],
   "source": [
    "original_unlabeled_df = pd.read_csv('current_unlabeled_data.csv')"
   ]
  },
  {
   "cell_type": "code",
   "execution_count": null,
   "id": "c887c3f8-5a4a-47e4-90d4-aef9c1d1c740",
   "metadata": {},
   "outputs": [],
   "source": [
    "original_unlabeled_df.shape"
   ]
  },
  {
   "cell_type": "code",
   "execution_count": null,
   "id": "0a73f97d-ed00-4371-b797-42d2c3871de3",
   "metadata": {},
   "outputs": [],
   "source": [
    "original_unlabeled_df.isnull().sum()"
   ]
  },
  {
   "cell_type": "code",
   "execution_count": null,
   "id": "3de9ecf8-ea86-4a04-8cf3-ddbb49339d2c",
   "metadata": {},
   "outputs": [],
   "source": [
    "cleaned_unlabeled_df = original_unlabeled_df.dropna(subset=[\"JOB DESCRIPTION\"])\n",
    "cleaned_unlabeled_df.count()"
   ]
  },
  {
   "cell_type": "code",
   "execution_count": null,
   "id": "2e036ddd-335b-4f13-b23f-ace431752627",
   "metadata": {},
   "outputs": [],
   "source": [
    "unlabeled_df_copy = cleaned_unlabeled_df.copy()\n",
    "unlabeled_df_copy['Cleaned Job Description'] = unlabeled_df_copy['JOB DESCRIPTION'].apply(preprocess_text)\n",
    "unlabeled_df_copy.head()"
   ]
  },
  {
   "cell_type": "code",
   "execution_count": null,
   "id": "1f4b0546-ad6d-41e5-b30d-ef72e26c301f",
   "metadata": {},
   "outputs": [],
   "source": [
    "data_folder = Path('data', 'work_in_progress')\n",
    "data_folder.mkdir(parents=True, exist_ok=True)"
   ]
  },
  {
   "cell_type": "code",
   "execution_count": null,
   "id": "dcbbfe8c-d311-4a82-85f1-93bc54102032",
   "metadata": {},
   "outputs": [],
   "source": [
    "unlabeled_features = vectorizer.transform(unlabeled_df_copy['Cleaned Job Description'])\n",
    "\n",
    "predicted_categories = best_model.predict(unlabeled_features)\n",
    "\n",
    "unlabeled_df_copy['CATEGORY'] = predicted_categories\n",
    "unlabeled_df_copy = unlabeled_df_copy.drop(columns=['Cleaned Job Description'])\n",
    "\n",
    "file_name = 'predicted_categories.csv'\n",
    "file_path = data_folder / file_name\n",
    "\n",
    "unlabeled_df_copy.to_csv(file_path, index=False)"
   ]
  },
  {
   "cell_type": "markdown",
   "id": "33370298-8689-4199-9136-535996ddc721",
   "metadata": {},
   "source": [
    "*At this point I manually look through each record, correct the wrong ones, feed the corrected data to the primary labeled data, train the model, and repeat with the fresh batch of data.*"
   ]
  }
 ],
 "metadata": {
  "kernelspec": {
   "display_name": "Python 3 (ipykernel)",
   "language": "python",
   "name": "python3"
  },
  "language_info": {
   "codemirror_mode": {
    "name": "ipython",
    "version": 3
   },
   "file_extension": ".py",
   "mimetype": "text/x-python",
   "name": "python",
   "nbconvert_exporter": "python",
   "pygments_lexer": "ipython3",
   "version": "3.12.4"
  }
 },
 "nbformat": 4,
 "nbformat_minor": 5
}
